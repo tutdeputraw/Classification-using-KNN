{
  "nbformat": 4,
  "nbformat_minor": 0,
  "metadata": {
    "colab": {
      "name": "tugas_03.ipynb",
      "provenance": [],
      "collapsed_sections": []
    },
    "kernelspec": {
      "name": "python3",
      "display_name": "Python 3"
    },
    "language_info": {
      "name": "python"
    },
    "accelerator": "GPU"
  },
  "cells": [
    {
      "cell_type": "code",
      "execution_count": null,
      "metadata": {
        "colab": {
          "base_uri": "https://localhost:8080/"
        },
        "id": "Qn4TaFJRR0z5",
        "outputId": "470666dc-a069-4abf-dded-0128b24224a2"
      },
      "outputs": [
        {
          "output_type": "stream",
          "name": "stdout",
          "text": [
            "     PassengerId  Survived  Pclass  \\\n",
            "0              1         0       3   \n",
            "1              2         1       1   \n",
            "2              3         1       3   \n",
            "3              4         1       1   \n",
            "4              5         0       3   \n",
            "..           ...       ...     ...   \n",
            "886          887         0       2   \n",
            "887          888         1       1   \n",
            "888          889         0       3   \n",
            "889          890         1       1   \n",
            "890          891         0       3   \n",
            "\n",
            "                                                  Name     Sex   Age  SibSp  \\\n",
            "0                              Braund, Mr. Owen Harris    male  22.0      1   \n",
            "1    Cumings, Mrs. John Bradley (Florence Briggs Th...  female  38.0      1   \n",
            "2                               Heikkinen, Miss. Laina  female  26.0      0   \n",
            "3         Futrelle, Mrs. Jacques Heath (Lily May Peel)  female  35.0      1   \n",
            "4                             Allen, Mr. William Henry    male  35.0      0   \n",
            "..                                                 ...     ...   ...    ...   \n",
            "886                              Montvila, Rev. Juozas    male  27.0      0   \n",
            "887                       Graham, Miss. Margaret Edith  female  19.0      0   \n",
            "888           Johnston, Miss. Catherine Helen \"Carrie\"  female   NaN      1   \n",
            "889                              Behr, Mr. Karl Howell    male  26.0      0   \n",
            "890                                Dooley, Mr. Patrick    male  32.0      0   \n",
            "\n",
            "     Parch            Ticket     Fare Cabin Embarked  \n",
            "0        0         A/5 21171   7.2500   NaN        S  \n",
            "1        0          PC 17599  71.2833   C85        C  \n",
            "2        0  STON/O2. 3101282   7.9250   NaN        S  \n",
            "3        0            113803  53.1000  C123        S  \n",
            "4        0            373450   8.0500   NaN        S  \n",
            "..     ...               ...      ...   ...      ...  \n",
            "886      0            211536  13.0000   NaN        S  \n",
            "887      0            112053  30.0000   B42        S  \n",
            "888      2        W./C. 6607  23.4500   NaN        S  \n",
            "889      0            111369  30.0000  C148        C  \n",
            "890      0            370376   7.7500   NaN        Q  \n",
            "\n",
            "[891 rows x 12 columns]\n"
          ]
        }
      ],
      "source": [
        "#1 dataset\n",
        "import pandas as pd\n",
        "\n",
        "url = 'https://raw.githubusercontent.com/tutdeputraw/data-set-for-data-mining/main/titanic.csv'\n",
        "\n",
        "dataset = pd.read_csv(url)\n",
        "\n",
        "print(dataset)"
      ]
    },
    {
      "cell_type": "code",
      "source": [
        "#2 test_dataset\n",
        "import pandas as pd\n",
        "\n",
        "url = 'https://raw.githubusercontent.com/tutdeputraw/data-set-for-data-mining/main/titanic_test.csv'\n",
        "\n",
        "test_dataset = pd.read_csv(url)\n",
        "\n",
        "print(test_dataset)"
      ],
      "metadata": {
        "colab": {
          "base_uri": "https://localhost:8080/"
        },
        "id": "Xwr04j2NZ4UR",
        "outputId": "77f24f6a-0500-4fc8-f60d-e2b216f7c586"
      },
      "execution_count": null,
      "outputs": [
        {
          "output_type": "stream",
          "name": "stdout",
          "text": [
            "     PassengerId  Pclass                                          Name  \\\n",
            "0            892       3                              Kelly, Mr. James   \n",
            "1            893       3              Wilkes, Mrs. James (Ellen Needs)   \n",
            "2            894       2                     Myles, Mr. Thomas Francis   \n",
            "3            895       3                              Wirz, Mr. Albert   \n",
            "4            896       3  Hirvonen, Mrs. Alexander (Helga E Lindqvist)   \n",
            "..           ...     ...                                           ...   \n",
            "413         1305       3                            Spector, Mr. Woolf   \n",
            "414         1306       1                  Oliva y Ocana, Dona. Fermina   \n",
            "415         1307       3                  Saether, Mr. Simon Sivertsen   \n",
            "416         1308       3                           Ware, Mr. Frederick   \n",
            "417         1309       3                      Peter, Master. Michael J   \n",
            "\n",
            "        Sex   Age  SibSp  Parch              Ticket      Fare Cabin Embarked  \n",
            "0      male  34.5      0      0              330911    7.8292   NaN        Q  \n",
            "1    female  47.0      1      0              363272    7.0000   NaN        S  \n",
            "2      male  62.0      0      0              240276    9.6875   NaN        Q  \n",
            "3      male  27.0      0      0              315154    8.6625   NaN        S  \n",
            "4    female  22.0      1      1             3101298   12.2875   NaN        S  \n",
            "..      ...   ...    ...    ...                 ...       ...   ...      ...  \n",
            "413    male   NaN      0      0           A.5. 3236    8.0500   NaN        S  \n",
            "414  female  39.0      0      0            PC 17758  108.9000  C105        C  \n",
            "415    male  38.5      0      0  SOTON/O.Q. 3101262    7.2500   NaN        S  \n",
            "416    male   NaN      0      0              359309    8.0500   NaN        S  \n",
            "417    male   NaN      1      1                2668   22.3583   NaN        C  \n",
            "\n",
            "[418 rows x 11 columns]\n"
          ]
        }
      ]
    },
    {
      "cell_type": "code",
      "source": [
        "#3 train_data\n",
        "import pandas as pd\n",
        "\n",
        "url = 'https://raw.githubusercontent.com/tutdeputraw/data-set-for-data-mining/main/titanic.csv'\n",
        "\n",
        "train_data = pd.read_csv(url)\n",
        "\n",
        "df = pd.DataFrame(train_data, columns=['Age', 'Fare'])\n",
        "\n",
        "data_train = df.dropna()\n",
        "\n",
        "pos_missing_train = df[~df.index.isin(data_train.index)]\n",
        "\n",
        "print(data_train)\n",
        "\n",
        "print(pos_missing_train)"
      ],
      "metadata": {
        "colab": {
          "base_uri": "https://localhost:8080/"
        },
        "id": "Yeqejb21XUny",
        "outputId": "3e38308e-a2fb-43e6-9d73-17babaf27a54"
      },
      "execution_count": null,
      "outputs": [
        {
          "output_type": "stream",
          "name": "stdout",
          "text": [
            "      Age     Fare\n",
            "0    22.0   7.2500\n",
            "1    38.0  71.2833\n",
            "2    26.0   7.9250\n",
            "3    35.0  53.1000\n",
            "4    35.0   8.0500\n",
            "..    ...      ...\n",
            "885  39.0  29.1250\n",
            "886  27.0  13.0000\n",
            "887  19.0  30.0000\n",
            "889  26.0  30.0000\n",
            "890  32.0   7.7500\n",
            "\n",
            "[714 rows x 2 columns]\n",
            "     Age     Fare\n",
            "5    NaN   8.4583\n",
            "17   NaN  13.0000\n",
            "19   NaN   7.2250\n",
            "26   NaN   7.2250\n",
            "28   NaN   7.8792\n",
            "..   ...      ...\n",
            "859  NaN   7.2292\n",
            "863  NaN  69.5500\n",
            "868  NaN   9.5000\n",
            "878  NaN   7.8958\n",
            "888  NaN  23.4500\n",
            "\n",
            "[177 rows x 2 columns]\n"
          ]
        }
      ]
    },
    {
      "cell_type": "code",
      "source": [
        "#4 test_data\n",
        "\n",
        "url = 'https://raw.githubusercontent.com/tutdeputraw/data-set-for-data-mining/main/titanic_test.csv'\n",
        "\n",
        "test_data = pd.read_csv(url)\n",
        "\n",
        "df = pd.DataFrame(test_data, columns=['Age', 'Fare'])\n",
        "\n",
        "data_test = df.dropna()\n",
        "\n",
        "pos_missing_test = df[~df.index.isin(data_test.index)]\n",
        "\n",
        "print(data_test)\n",
        "\n",
        "print(pos_missing_test)"
      ],
      "metadata": {
        "colab": {
          "base_uri": "https://localhost:8080/"
        },
        "id": "XF0EpYzwuUDZ",
        "outputId": "799c59ab-01d3-4215-d5d2-f242961bfa2f"
      },
      "execution_count": null,
      "outputs": [
        {
          "output_type": "stream",
          "name": "stdout",
          "text": [
            "      Age      Fare\n",
            "0    34.5    7.8292\n",
            "1    47.0    7.0000\n",
            "2    62.0    9.6875\n",
            "3    27.0    8.6625\n",
            "4    22.0   12.2875\n",
            "..    ...       ...\n",
            "409   3.0   13.7750\n",
            "411  37.0   90.0000\n",
            "412  28.0    7.7750\n",
            "414  39.0  108.9000\n",
            "415  38.5    7.2500\n",
            "\n",
            "[331 rows x 2 columns]\n",
            "     Age     Fare\n",
            "10   NaN   7.8958\n",
            "22   NaN  31.6833\n",
            "29   NaN  21.6792\n",
            "33   NaN  23.4500\n",
            "36   NaN   8.0500\n",
            "..   ...      ...\n",
            "408  NaN   7.7208\n",
            "410  NaN   7.7500\n",
            "413  NaN   8.0500\n",
            "416  NaN   8.0500\n",
            "417  NaN  22.3583\n",
            "\n",
            "[87 rows x 2 columns]\n"
          ]
        }
      ]
    },
    {
      "cell_type": "code",
      "source": [
        "#5 train_label\n",
        "\n",
        "import pandas as pd\n",
        "\n",
        "url = 'https://raw.githubusercontent.com/tutdeputraw/data-set-for-data-mining/main/titanic.csv'\n",
        "\n",
        "train_label = pd.read_csv(url)\n",
        "\n",
        "df = pd.DataFrame(train_label, columns=['Age', 'Fare','Survived'])\n",
        "\n",
        "data_train = df.dropna()\n",
        "\n",
        "pos_missing_train = df[~df.index.isin(data_train.index)]\n",
        "\n",
        "print(data_train['Survived'])"
      ],
      "metadata": {
        "colab": {
          "base_uri": "https://localhost:8080/"
        },
        "id": "NqEDg7aJyVjJ",
        "outputId": "e76bd271-3f2e-4d74-d296-db0e552e68a2"
      },
      "execution_count": null,
      "outputs": [
        {
          "output_type": "stream",
          "name": "stdout",
          "text": [
            "      Age     Fare  Survived\n",
            "0    22.0   7.2500         0\n",
            "1    38.0  71.2833         1\n",
            "2    26.0   7.9250         1\n",
            "3    35.0  53.1000         1\n",
            "4    35.0   8.0500         0\n",
            "..    ...      ...       ...\n",
            "885  39.0  29.1250         0\n",
            "886  27.0  13.0000         0\n",
            "887  19.0  30.0000         1\n",
            "889  26.0  30.0000         1\n",
            "890  32.0   7.7500         0\n",
            "\n",
            "[714 rows x 3 columns]\n"
          ]
        }
      ]
    },
    {
      "cell_type": "code",
      "source": [
        "#6 test_label\n",
        "\n",
        "import pandas as pd\n",
        "\n",
        "url = 'https://raw.githubusercontent.com/tutdeputraw/data-set-for-data-mining/main/titanic_testlabel.csv'\n",
        "\n",
        "test_label = pd.read_csv(url)\n",
        "\n",
        "df_test_label = pd.DataFrame(test_label)\n",
        "\n",
        "# print(df_test_label)\n",
        "\n",
        "##########################\n",
        "\n",
        "url = 'https://raw.githubusercontent.com/tutdeputraw/data-set-for-data-mining/main/titanic_test.csv'\n",
        "\n",
        "test_data = pd.read_csv(url)\n",
        "\n",
        "df_test_data = pd.DataFrame(test_data, columns=['Age', 'Fare'])\n",
        "\n",
        "data_test = df_test_data.dropna()\n",
        "\n",
        "pos_missing_test = df_test_data[~df_test_data.index.isin(data_test.index)]\n",
        "\n",
        "# print(pos_missing_test)\n",
        "\n",
        "##########################\n",
        "\n",
        "df_all = df_test_label[~df_test_label.index.isin(pos_missing_test.index)]\n",
        "\n",
        "print(df_all)\n"
      ],
      "metadata": {
        "colab": {
          "base_uri": "https://localhost:8080/"
        },
        "id": "23XM7z7x039b",
        "outputId": "ab62f7e6-a36a-4215-c8f5-e4eec49a66d5"
      },
      "execution_count": null,
      "outputs": [
        {
          "output_type": "stream",
          "name": "stdout",
          "text": [
            "     PassengerId  Survived\n",
            "0            892         0\n",
            "1            893         1\n",
            "2            894         0\n",
            "3            895         0\n",
            "4            896         1\n",
            "..           ...       ...\n",
            "409         1301         1\n",
            "411         1303         1\n",
            "412         1304         1\n",
            "414         1306         1\n",
            "415         1307         0\n",
            "\n",
            "[331 rows x 2 columns]\n"
          ]
        }
      ]
    },
    {
      "cell_type": "code",
      "source": [
        "#7 train data\n",
        "\n",
        "import pandas as pd\n",
        "\n",
        "url = 'https://raw.githubusercontent.com/tutdeputraw/data-set-for-data-mining/main/titanic.csv'\n",
        "\n",
        "train_data = pd.read_csv(url)\n",
        "\n",
        "df = pd.DataFrame(train_data, columns=['Age', 'Fare'])\n",
        "\n",
        "data_train = df.dropna()\n",
        "\n",
        "####################################################\n",
        "\n",
        "# normalize\n",
        "for column in data_train.columns:\n",
        "  data_train[column] = (data_train[column] - data_train[column].min()) / (data_train[column].max() - data_train[column].min())\n",
        "\n",
        "min_age = data_train['Age'].min()\n",
        "max_age = data_train['Age'].max()\n",
        "min_fare = data_train['Fare'].min()\n",
        "max_fare = data_train['Fare'].max()\n",
        "\n",
        "print(data_train)\n",
        "print('min age: ', min_age, '\\tmax age: ', max_age)\n",
        "print('min fare: ', min_fare, '\\tmax fare: ', max_fare)"
      ],
      "metadata": {
        "colab": {
          "base_uri": "https://localhost:8080/"
        },
        "id": "JjCCUuJN7S8y",
        "outputId": "460139b4-73b4-4d44-e400-676a70c70fee"
      },
      "execution_count": null,
      "outputs": [
        {
          "output_type": "stream",
          "name": "stdout",
          "text": [
            "          Age      Fare\n",
            "0    0.271174  0.014151\n",
            "1    0.472229  0.139136\n",
            "2    0.321438  0.015469\n",
            "3    0.434531  0.103644\n",
            "4    0.434531  0.015713\n",
            "..        ...       ...\n",
            "885  0.484795  0.056848\n",
            "886  0.334004  0.025374\n",
            "887  0.233476  0.058556\n",
            "889  0.321438  0.058556\n",
            "890  0.396833  0.015127\n",
            "\n",
            "[714 rows x 2 columns]\n",
            "min age:  0.0 \tmax age:  1.0\n",
            "min fare:  0.0 \tmax fare:  1.0\n"
          ]
        },
        {
          "output_type": "stream",
          "name": "stderr",
          "text": [
            "/usr/local/lib/python3.7/dist-packages/ipykernel_launcher.py:17: SettingWithCopyWarning: \n",
            "A value is trying to be set on a copy of a slice from a DataFrame.\n",
            "Try using .loc[row_indexer,col_indexer] = value instead\n",
            "\n",
            "See the caveats in the documentation: https://pandas.pydata.org/pandas-docs/stable/user_guide/indexing.html#returning-a-view-versus-a-copy\n"
          ]
        }
      ]
    },
    {
      "cell_type": "code",
      "source": [
        "#8 test_data\n",
        "\n",
        "url = 'https://raw.githubusercontent.com/tutdeputraw/data-set-for-data-mining/main/titanic_test.csv'\n",
        "\n",
        "test_data = pd.read_csv(url)\n",
        "\n",
        "df = pd.DataFrame(test_data, columns=['Age', 'Fare'])\n",
        "\n",
        "data_test = df.dropna()\n",
        "\n",
        "\n",
        "# normalize\n",
        "for column in data_test.columns:\n",
        "  data_test[column] = (data_test[column] - data_test[column].min()) / (data_test[column].max() - data_test[column].min())\n",
        "\n",
        "\n",
        "min_age = data_train['Age'].min()\n",
        "\n",
        "max_age = data_train['Age'].max()\n",
        "\n",
        "min_fare = data_train['Fare'].min()\n",
        "\n",
        "max_fare = data_train['Fare'].max()\n",
        "\n",
        "\n",
        "print(data_test)\n",
        "\n",
        "print('min age: ', min_age, '\\tmax age: ', max_age)\n",
        "\n",
        "print('min fare: ', min_fare, '\\tmax fare: ', max_fare)"
      ],
      "metadata": {
        "colab": {
          "base_uri": "https://localhost:8080/"
        },
        "id": "x_Lqlork8Pzp",
        "outputId": "2d83c209-532b-4d86-81e9-dca77346a8a0"
      },
      "execution_count": null,
      "outputs": [
        {
          "output_type": "stream",
          "name": "stdout",
          "text": [
            "          Age      Fare\n",
            "0    0.452723  0.015282\n",
            "1    0.617566  0.013663\n",
            "2    0.815377  0.018909\n",
            "3    0.353818  0.016908\n",
            "4    0.287881  0.023984\n",
            "..        ...       ...\n",
            "409  0.037320  0.026887\n",
            "411  0.485692  0.175668\n",
            "412  0.367005  0.015176\n",
            "414  0.512066  0.212559\n",
            "415  0.505473  0.014151\n",
            "\n",
            "[331 rows x 2 columns]\n",
            "min age:  0.0 \tmax age:  1.0\n",
            "min fare:  0.0 \tmax fare:  1.0\n"
          ]
        },
        {
          "output_type": "stream",
          "name": "stderr",
          "text": [
            "/usr/local/lib/python3.7/dist-packages/ipykernel_launcher.py:14: SettingWithCopyWarning: \n",
            "A value is trying to be set on a copy of a slice from a DataFrame.\n",
            "Try using .loc[row_indexer,col_indexer] = value instead\n",
            "\n",
            "See the caveats in the documentation: https://pandas.pydata.org/pandas-docs/stable/user_guide/indexing.html#returning-a-view-versus-a-copy\n",
            "  \n"
          ]
        }
      ]
    },
    {
      "cell_type": "code",
      "source": [
        "#9&10 class_result\n",
        "\n",
        "from sklearn.neighbors import KNeighborsClassifier\n",
        "import pandas as pd\n",
        "\n",
        "\n",
        "################################################################################\n",
        "# Train Data\n",
        "\n",
        "url = 'https://raw.githubusercontent.com/tutdeputraw/data-set-for-data-mining/main/titanic.csv'\n",
        "\n",
        "train_data = pd.read_csv(url)\n",
        "\n",
        "df = pd.DataFrame(train_data, columns=['Age', 'Fare'])\n",
        "\n",
        "data_train = df.dropna()\n",
        "\n",
        "# normalize\n",
        "for column in data_train.columns:\n",
        "  data_train[column] = (data_train[column] - data_train[column].min()) / (data_train[column].max() - data_train[column].min())\n",
        "\n",
        "# print(data_train)\n",
        "\n",
        "\n",
        "################################################################################\n",
        "# Train label\n",
        "\n",
        "url = 'https://raw.githubusercontent.com/tutdeputraw/data-set-for-data-mining/main/titanic.csv'\n",
        "\n",
        "train_label = pd.read_csv(url)\n",
        "\n",
        "df = pd.DataFrame(train_label, columns=['Age', 'Fare','Survived'])\n",
        "\n",
        "label_train = df.dropna()\n",
        "\n",
        "pos_missing_train = df[~df.index.isin(label_train.index)]\n",
        "\n",
        "label_train = label_train['Survived']\n",
        "\n",
        "# print(train_label)\n",
        "\n",
        "\n",
        "################################################################################\n",
        "# data test\n",
        "\n",
        "url = 'https://raw.githubusercontent.com/tutdeputraw/data-set-for-data-mining/main/titanic_test.csv'\n",
        "\n",
        "test_data = pd.read_csv(url)\n",
        "\n",
        "df = pd.DataFrame(test_data, columns=['Age', 'Fare'])\n",
        "\n",
        "data_test = df.dropna()\n",
        "\n",
        "pos_missing_test = df[~df.index.isin(data_test.index)]\n",
        "\n",
        "\n",
        "# normalize\n",
        "for column in data_test.columns:\n",
        "  data_test[column] = (data_test[column] - data_test[column].min()) / (data_test[column].max() - data_test[column].min())\n",
        "\n",
        "\n",
        "################################################################################\n",
        "# label test\n",
        "\n",
        "url = 'https://raw.githubusercontent.com/tutdeputraw/data-set-for-data-mining/main/titanic_testlabel.csv'\n",
        "\n",
        "test_label = pd.read_csv(url)\n",
        "\n",
        "df = pd.DataFrame(test_label)\n",
        "\n",
        "testing_label = df[~df.index.isin(pos_missing_test.index)]\n",
        "\n",
        "################################################################################\n",
        "#KNN\n",
        "\n",
        "for x in range (10):\n",
        "  kNN = KNeighborsClassifier(n_neighbors = x + 1, weights = 'distance')\n",
        "\n",
        "  kNN.fit(data_train, label_train)\n",
        "\n",
        "  class_result = kNN.predict(data_test)\n",
        "\n",
        "  precision_ratio=kNN.score(data_test, testing_label['Survived'])\n",
        "\n",
        "  error_ratio = 1 - precision_ratio\n",
        "\n",
        "  print('index ', x+1, '\\tPrecision ration: ', precision_ratio, '\\tError ratio: ', error_ratio)"
      ],
      "metadata": {
        "colab": {
          "base_uri": "https://localhost:8080/"
        },
        "id": "f2ObO1e1C4us",
        "outputId": "62618160-de51-4c2a-da00-0d5adca352ed"
      },
      "execution_count": null,
      "outputs": [
        {
          "output_type": "stream",
          "name": "stderr",
          "text": [
            "/usr/local/lib/python3.7/dist-packages/ipykernel_launcher.py:20: SettingWithCopyWarning: \n",
            "A value is trying to be set on a copy of a slice from a DataFrame.\n",
            "Try using .loc[row_indexer,col_indexer] = value instead\n",
            "\n",
            "See the caveats in the documentation: https://pandas.pydata.org/pandas-docs/stable/user_guide/indexing.html#returning-a-view-versus-a-copy\n",
            "/usr/local/lib/python3.7/dist-packages/ipykernel_launcher.py:59: SettingWithCopyWarning: \n",
            "A value is trying to be set on a copy of a slice from a DataFrame.\n",
            "Try using .loc[row_indexer,col_indexer] = value instead\n",
            "\n",
            "See the caveats in the documentation: https://pandas.pydata.org/pandas-docs/stable/user_guide/indexing.html#returning-a-view-versus-a-copy\n"
          ]
        },
        {
          "output_type": "stream",
          "name": "stdout",
          "text": [
            "index  1 \tPrecision ration:  0.5589123867069486 \tError ratio:  0.44108761329305135\n",
            "index  2 \tPrecision ration:  0.5649546827794562 \tError ratio:  0.43504531722054385\n",
            "index  3 \tPrecision ration:  0.56797583081571 \tError ratio:  0.43202416918429\n",
            "index  4 \tPrecision ration:  0.5498489425981873 \tError ratio:  0.4501510574018127\n",
            "index  5 \tPrecision ration:  0.56797583081571 \tError ratio:  0.43202416918429\n",
            "index  6 \tPrecision ration:  0.56797583081571 \tError ratio:  0.43202416918429\n",
            "index  7 \tPrecision ration:  0.6132930513595166 \tError ratio:  0.3867069486404834\n",
            "index  8 \tPrecision ration:  0.5861027190332326 \tError ratio:  0.41389728096676737\n",
            "index  9 \tPrecision ration:  0.6012084592145015 \tError ratio:  0.3987915407854985\n",
            "index  10 \tPrecision ration:  0.5861027190332326 \tError ratio:  0.41389728096676737\n"
          ]
        }
      ]
    }
  ]
}